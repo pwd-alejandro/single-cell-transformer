{
 "cells": [
  {
   "cell_type": "code",
   "execution_count": 24,
   "id": "initial_id",
   "metadata": {
    "collapsed": true,
    "ExecuteTime": {
     "end_time": "2023-09-14T10:12:12.160234300Z",
     "start_time": "2023-09-14T10:12:12.154234400Z"
    }
   },
   "outputs": [],
   "source": [
    "import h5py\n",
    "import numpy as np\n",
    "import scipy as scp\n",
    "import pandas as pd"
   ]
  },
  {
   "cell_type": "code",
   "execution_count": 26,
   "outputs": [],
   "source": [
    "def read_data(filename: str = None) -> scp.sparse.csr_matrix:\n",
    "    with h5py.File(filename, \"r\") as f:\n",
    "        express_handle = f[\"exprs\"]\n",
    "        reconstructed_matrix = scp.sparse.csr_matrix((express_handle.get('data'),\n",
    "                                                      express_handle.get('indices'),\n",
    "                                                      express_handle.get('indptr')),\n",
    "                                                     shape=express_handle.get('shape'))\n",
    "\n",
    "    return reconstructed_matrix"
   ],
   "metadata": {
    "collapsed": false,
    "ExecuteTime": {
     "end_time": "2023-09-14T10:13:05.360218900Z",
     "start_time": "2023-09-14T10:13:05.350220Z"
    }
   },
   "id": "686a852914596f12"
  },
  {
   "cell_type": "code",
   "execution_count": 31,
   "outputs": [],
   "source": [
    "matrix = read_data(filename='../data/adam.h5')"
   ],
   "metadata": {
    "collapsed": false,
    "ExecuteTime": {
     "end_time": "2023-09-14T10:28:06.840359600Z",
     "start_time": "2023-09-14T10:28:06.494118800Z"
    }
   },
   "id": "464ffc3736458e63"
  },
  {
   "cell_type": "code",
   "execution_count": 34,
   "outputs": [
    {
     "data": {
      "text/plain": "array([[0., 1., 1., 0., 0., 1., 1., 0., 0., 0.],\n       [0., 0., 0., 0., 0., 0., 1., 0., 0., 0.],\n       [1., 0., 0., 0., 0., 0., 0., 0., 0., 0.],\n       [0., 0., 0., 0., 0., 0., 1., 0., 0., 0.],\n       [0., 0., 1., 0., 0., 0., 0., 0., 0., 0.],\n       [0., 0., 0., 0., 0., 0., 2., 0., 0., 0.],\n       [0., 0., 0., 0., 0., 0., 0., 0., 0., 0.],\n       [0., 0., 0., 0., 0., 0., 0., 0., 0., 0.],\n       [0., 0., 0., 0., 0., 0., 1., 0., 0., 0.],\n       [0., 0., 0., 0., 0., 1., 2., 0., 0., 0.]])"
     },
     "execution_count": 34,
     "metadata": {},
     "output_type": "execute_result"
    }
   ],
   "source": [
    "matrix[:10,:10].toarray()"
   ],
   "metadata": {
    "collapsed": false,
    "ExecuteTime": {
     "end_time": "2023-09-14T10:28:31.876829500Z",
     "start_time": "2023-09-14T10:28:31.863828700Z"
    }
   },
   "id": "1f039ae6ca0d1ddd"
  },
  {
   "cell_type": "code",
   "execution_count": 6,
   "outputs": [],
   "source": [
    "'''\n",
    "We'll go with the assumption that indices are column indices of non-zero values. Although most papers say it's the\n",
    "other way around. We'll need to come back to this to double-check we are interpreting things correctly.\n",
    "\n",
    "'''\n",
    "\n",
    "with h5py.File('../data/quake_smart_seq2_trachea.h5', 'r') as hd_file:\n",
    "    cell_names = np.array(hd_file.get('obs_names'))\n",
    "    gene_names = np.array(hd_file.get('var_names'))\n",
    "    shape = np.array(hd_file.get('exprs').get('shape'))\n",
    "    indices = np.array(hd_file.get('exprs').get('indices'))\n",
    "    data = np.array(hd_file.get('exprs').get('data'))\n",
    "    indptr = np.array(hd_file.get('exprs').get('indptr'))"
   ],
   "metadata": {
    "collapsed": false,
    "ExecuteTime": {
     "end_time": "2023-09-13T11:54:49.273461400Z",
     "start_time": "2023-09-13T11:54:49.058350900Z"
    }
   },
   "id": "120438e7a174bc16"
  },
  {
   "cell_type": "code",
   "execution_count": 12,
   "outputs": [
    {
     "data": {
      "text/plain": "True"
     },
     "execution_count": 12,
     "metadata": {},
     "output_type": "execute_result"
    }
   ],
   "source": [
    "#data.shape == indices.shape\n",
    "max(indptr) == data.shape[0]"
   ],
   "metadata": {
    "collapsed": false,
    "ExecuteTime": {
     "end_time": "2023-09-13T12:02:19.204817800Z",
     "start_time": "2023-09-13T12:02:19.192821100Z"
    }
   },
   "id": "c8131310adc6737b"
  },
  {
   "cell_type": "code",
   "execution_count": 15,
   "outputs": [
    {
     "data": {
      "text/plain": "23339"
     },
     "execution_count": 15,
     "metadata": {},
     "output_type": "execute_result"
    }
   ],
   "source": [
    "max(indices)"
   ],
   "metadata": {
    "collapsed": false,
    "ExecuteTime": {
     "end_time": "2023-09-13T13:37:21.114286900Z",
     "start_time": "2023-09-13T13:37:20.883317100Z"
    }
   },
   "id": "b480b78e8d7c4b0b"
  },
  {
   "cell_type": "code",
   "execution_count": 16,
   "outputs": [
    {
     "data": {
      "text/plain": "array([ 1350, 23341])"
     },
     "execution_count": 16,
     "metadata": {},
     "output_type": "execute_result"
    }
   ],
   "source": [
    "shape"
   ],
   "metadata": {
    "collapsed": false,
    "ExecuteTime": {
     "end_time": "2023-09-13T13:37:25.709874400Z",
     "start_time": "2023-09-13T13:37:25.699877100Z"
    }
   },
   "id": "a468484724a6afe8"
  },
  {
   "cell_type": "code",
   "execution_count": 20,
   "outputs": [
    {
     "data": {
      "text/plain": "(5, 5)"
     },
     "execution_count": 20,
     "metadata": {},
     "output_type": "execute_result"
    }
   ],
   "source": [
    "a = sp.sparse.csr_matrix((5, 5))\n"
   ],
   "metadata": {
    "collapsed": false,
    "ExecuteTime": {
     "end_time": "2023-09-14T09:57:25.178520100Z",
     "start_time": "2023-09-14T09:57:25.156893700Z"
    }
   },
   "id": "d1f3d08039240f8d"
  },
  {
   "cell_type": "code",
   "execution_count": 22,
   "outputs": [
    {
     "data": {
      "text/plain": "array([[0., 0., 0., 0., 0.],\n       [0., 0., 0., 0., 0.],\n       [0., 0., 0., 0., 0.],\n       [0., 0., 0., 0., 0.],\n       [0., 0., 0., 0., 0.]])"
     },
     "execution_count": 22,
     "metadata": {},
     "output_type": "execute_result"
    }
   ],
   "source": [
    "a.toarray()"
   ],
   "metadata": {
    "collapsed": false,
    "ExecuteTime": {
     "end_time": "2023-09-14T10:03:53.707071600Z",
     "start_time": "2023-09-14T10:03:53.701075Z"
    }
   },
   "id": "95b859e30a0732e5"
  }
 ],
 "metadata": {
  "kernelspec": {
   "display_name": "Python 3",
   "language": "python",
   "name": "python3"
  },
  "language_info": {
   "codemirror_mode": {
    "name": "ipython",
    "version": 2
   },
   "file_extension": ".py",
   "mimetype": "text/x-python",
   "name": "python",
   "nbconvert_exporter": "python",
   "pygments_lexer": "ipython2",
   "version": "2.7.6"
  }
 },
 "nbformat": 4,
 "nbformat_minor": 5
}
