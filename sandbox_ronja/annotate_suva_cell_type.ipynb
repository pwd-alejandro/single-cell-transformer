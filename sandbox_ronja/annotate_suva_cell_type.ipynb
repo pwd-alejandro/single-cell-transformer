{
 "cells": [
  {
   "cell_type": "code",
   "execution_count": 11,
   "outputs": [],
   "source": [
    "import pandas as pd\n",
    "import scanpy as sc\n",
    "\n",
    "from tasks.data_handling import data_pre_processing as dpp"
   ],
   "metadata": {
    "collapsed": false,
    "ExecuteTime": {
     "end_time": "2023-11-20T11:38:53.171158900Z",
     "start_time": "2023-11-20T11:38:53.158078700Z"
    }
   },
   "id": "460330739327f981"
  },
  {
   "cell_type": "markdown",
   "source": [
    "### Read list of signature genes from txt and pick out suva classes"
   ],
   "metadata": {
    "collapsed": false
   },
   "id": "aacce64af88ce868"
  },
  {
   "cell_type": "code",
   "execution_count": 31,
   "id": "initial_id",
   "metadata": {
    "collapsed": true,
    "ExecuteTime": {
     "end_time": "2023-11-20T12:54:00.267199Z",
     "start_time": "2023-11-20T12:53:58.957275900Z"
    }
   },
   "outputs": [],
   "source": [
    "file1 = open('NOsigdb_may2023.txt', 'r')\n",
    "Lines = file1.readlines()\n",
    "df_resp = None\n",
    "for line in Lines:\n",
    "    strip = line.strip().split('\\t')\n",
    "    df_temp = pd.DataFrame(data={'genes': strip[2:]})\n",
    "    df_temp.loc[:, 'set'] = [strip[0]] * df_temp.shape[0]\n",
    "    df_resp = pd.concat([df_resp, df_temp])\n",
    "df_suva = df_resp[df_resp['set'].str.startswith('suva')]\n",
    "suva_categories = df_suva['set'].unique()"
   ]
  },
  {
   "cell_type": "code",
   "execution_count": 8,
   "outputs": [
    {
     "name": "stdout",
     "output_type": "stream",
     "text": [
      "      genes                     set\n",
      "0      CST3   suva_ac_PMID_31327527\n",
      "1     S100B   suva_ac_PMID_31327527\n",
      "2    SLC1A3   suva_ac_PMID_31327527\n",
      "3     HEPN1   suva_ac_PMID_31327527\n",
      "4      HOPX   suva_ac_PMID_31327527\n",
      "..      ...                     ...\n",
      "45    FABP5  suva_opc_PMID_31327527\n",
      "46    NLGN3  suva_opc_PMID_31327527\n",
      "47  SERINC5  suva_opc_PMID_31327527\n",
      "48  EPB41L2  suva_opc_PMID_31327527\n",
      "49  GPR37L1  suva_opc_PMID_31327527\n",
      "\n",
      "[363 rows x 2 columns]\n",
      "['suva_ac_PMID_31327527' 'suva_g1s_PMID_31327527' 'suva_g2m_PMID_31327527'\n",
      " 'suva_mes1_PMID_31327527' 'suva_mes2_PMID_31327527'\n",
      " 'suva_npc1_PMID_31327527' 'suva_npc2_PMID_31327527'\n",
      " 'suva_opc_PMID_31327527']\n"
     ]
    }
   ],
   "source": [
    "print(df_suva)\n",
    "print(suva_categories)"
   ],
   "metadata": {
    "collapsed": false,
    "ExecuteTime": {
     "end_time": "2023-11-20T11:31:15.611415100Z",
     "start_time": "2023-11-20T11:31:15.499350400Z"
    }
   },
   "id": "2f330d54dee3cd6f"
  },
  {
   "cell_type": "markdown",
   "source": [
    "### Pre-process data"
   ],
   "metadata": {
    "collapsed": false
   },
   "id": "2f3fcb198705744c"
  },
  {
   "cell_type": "code",
   "execution_count": 32,
   "outputs": [
    {
     "name": "stderr",
     "output_type": "stream",
     "text": [
      "C:\\Users\\ronja\\anaconda3\\envs\\transformer_bio\\lib\\site-packages\\anndata\\_core\\anndata.py:1900: UserWarning: Variable names are not unique. To make them unique, call `.var_names_make_unique`.\n",
      "  utils.warn_names_duplicates(\"var\")\n",
      "C:\\Users\\ronja\\anaconda3\\envs\\transformer_bio\\lib\\site-packages\\anndata\\_core\\anndata.py:1900: UserWarning: Variable names are not unique. To make them unique, call `.var_names_make_unique`.\n",
      "  utils.warn_names_duplicates(\"var\")\n",
      "C:\\Users\\ronja\\anaconda3\\envs\\transformer_bio\\lib\\site-packages\\scanpy\\preprocessing\\_normalization.py:169: UserWarning: Received a view of an AnnData. Making a copy.\n",
      "  view_to_actual(adata)\n",
      "C:\\Users\\ronja\\anaconda3\\envs\\transformer_bio\\lib\\site-packages\\scanpy\\preprocessing\\_highly_variable_genes.py:539: ImplicitModificationWarning: Trying to modify attribute `._uns` of view, initializing view as actual.\n",
      "  adata.uns['hvg'] = {'flavor': flavor}\n"
     ]
    }
   ],
   "source": [
    "file_name = '3013_P_filtered_feature_bc_matrix.h5'\n",
    "data_path = f'../example/data/{file_name}'\n",
    "adata = sc.read_10x_h5(data_path)\n",
    "adata.var_names_make_unique()\n",
    "dpp.quality_control(adata=adata)\n",
    "adata_cells_removed = dpp.remove_bad_cells(adata=adata,\n",
    "                                           max_n_genes=10000, \n",
    "                                           min_n_genes=500,\n",
    "                                           mitochondrial_percent=20)\n",
    "dpp.normalize_data(adata=adata_cells_removed)\n",
    "adata_pre_processed = dpp.filter_genes(adata=adata_cells_removed, \n",
    "                                        min_n_cells=50)\n",
    "\n",
    "adata_for_function = adata_pre_processed.copy()\n"
   ],
   "metadata": {
    "collapsed": false,
    "ExecuteTime": {
     "end_time": "2023-11-20T12:54:08.235898500Z",
     "start_time": "2023-11-20T12:54:04.334572200Z"
    }
   },
   "id": "c63f816c838f06bf"
  },
  {
   "cell_type": "markdown",
   "source": [
    "### Add class scores to each cell"
   ],
   "metadata": {
    "collapsed": false
   },
   "id": "4ddf4301cee0e8ed"
  },
  {
   "cell_type": "code",
   "execution_count": 33,
   "outputs": [
    {
     "name": "stdout",
     "output_type": "stream",
     "text": [
      "WARNING: genes are not in var_names and ignored: ['HOPX', 'AQP4', 'ATP1A2', 'AGT', 'PPAP2B']\n",
      "WARNING: genes are not in var_names and ignored: ['PPAP2B']\n",
      "WARNING: genes are not in var_names and ignored: ['KIAA0101', 'MLF1IP']\n",
      "WARNING: genes are not in var_names and ignored: ['KIAA0101', 'MLF1IP']\n",
      "WARNING: genes are not in var_names and ignored: ['CHI3L1', 'C1S', 'SERPING1', 'C8ORF4', 'C3', 'SERPINA3', 'NNMT']\n",
      "WARNING: genes are not in var_names and ignored: ['C8ORF4']\n",
      "WARNING: genes are not in var_names and ignored: ['ERO1L', 'EPAS1', 'CA9', 'ANGPTL4']\n",
      "WARNING: genes are not in var_names and ignored: ['ERO1L']\n",
      "WARNING: genes are not in var_names and ignored: ['DLL3', 'NEU4', 'NPPA', 'ASCL1', 'NXPH1', 'HN1', 'MYT1', 'GPR56', 'SHD', 'ELAVL4', 'SEZ6L', 'LRRN1']\n",
      "WARNING: genes are not in var_names and ignored: ['HN1', 'GPR56']\n",
      "WARNING: genes are not in var_names and ignored: ['HMP19', 'ELAVL4', 'STMN4', 'IGFBPL1', 'HN1', 'LOC150568', 'GNG3']\n",
      "WARNING: genes are not in var_names and ignored: ['HMP19', 'HN1', 'LOC150568']\n",
      "WARNING: genes are not in var_names and ignored: ['GPR17', 'SOX2-OT', 'NKAIN4', 'LPPR1', 'CA10', 'CADM2', 'FGF12', 'NEU4', 'HRASLS']\n",
      "WARNING: genes are not in var_names and ignored: ['SOX2-OT', 'LPPR1']\n"
     ]
    }
   ],
   "source": [
    "for suva_class in suva_categories:\n",
    "    gene_list = df_suva.loc[df_suva['set'] == suva_class, 'genes'].tolist()\n",
    "    sc.tl.score_genes(adata_pre_processed, score_name=suva_class, gene_list=gene_list)\n",
    "    sc.tl.score_genes(adata_cells_removed, score_name=suva_class, gene_list=gene_list)\n",
    "# See below that not all genes are in the set, even without filtering out genes. What does that mean?"
   ],
   "metadata": {
    "collapsed": false,
    "ExecuteTime": {
     "end_time": "2023-11-20T12:54:16.583773500Z",
     "start_time": "2023-11-20T12:54:11.803384100Z"
    }
   },
   "id": "8d812c8b40d642ac"
  },
  {
   "cell_type": "markdown",
   "source": [
    "#### Note that some cells below have negative values in some classes. Should we go for absolute values?"
   ],
   "metadata": {
    "collapsed": false
   },
   "id": "3781a964cddfe4c4"
  },
  {
   "cell_type": "code",
   "execution_count": 34,
   "outputs": [
    {
     "data": {
      "text/plain": "                    suva_ac_PMID_31327527  suva_g1s_PMID_31327527  \\\nAAACCCACAAGCGAAC-1               0.495610                0.392755   \nAAACCCACAATTTCTC-1               0.450129               -0.154239   \nAAACCCACACCAAATC-1               0.547855               -0.099321   \nAAACCCACACCGAATT-1               0.203442                0.057941   \nAAACCCATCTTGGATG-1               0.678727               -0.018926   \n...                                   ...                     ...   \nTTTGGTTGTTTGTTCT-1               0.384686                0.305136   \nTTTGGTTTCCCAGGCA-1               0.168643               -0.005736   \nTTTGGTTTCGTAGCCG-1               0.608639               -0.221996   \nTTTGTTGTCAACCTCC-1               0.444351                0.704713   \nTTTGTTGTCCCAAGCG-1              -0.056385                0.126085   \n\n                    suva_g2m_PMID_31327527  suva_mes1_PMID_31327527  \\\nAAACCCACAAGCGAAC-1               -0.108044                 0.493775   \nAAACCCACAATTTCTC-1               -0.105096                 0.178716   \nAAACCCACACCAAATC-1               -0.154478                 0.388681   \nAAACCCACACCGAATT-1               -0.159538                 0.242374   \nAAACCCATCTTGGATG-1               -0.176075                 0.407065   \n...                                    ...                      ...   \nTTTGGTTGTTTGTTCT-1                0.285282                 0.555193   \nTTTGGTTTCCCAGGCA-1                1.205045                 0.624949   \nTTTGGTTTCGTAGCCG-1               -0.208454                 0.568790   \nTTTGTTGTCAACCTCC-1                0.356173                 0.392078   \nTTTGTTGTCCCAAGCG-1               -0.117375                -0.096945   \n\n                    suva_mes2_PMID_31327527  suva_npc1_PMID_31327527  \\\nAAACCCACAAGCGAAC-1                 0.299444                 0.082490   \nAAACCCACAATTTCTC-1                 0.057103                 0.100310   \nAAACCCACACCAAATC-1                 0.298187                 0.157651   \nAAACCCACACCGAATT-1                 0.193918                 0.230980   \nAAACCCATCTTGGATG-1                 0.201304                 0.114754   \n...                                     ...                      ...   \nTTTGGTTGTTTGTTCT-1                 0.224498                 0.098533   \nTTTGGTTTCCCAGGCA-1                 0.205460                 0.195685   \nTTTGGTTTCGTAGCCG-1                 0.192038                 0.103787   \nTTTGTTGTCAACCTCC-1                 0.245069                 0.041619   \nTTTGTTGTCCCAAGCG-1                -0.072994                 0.205396   \n\n                    suva_npc2_PMID_31327527  suva_opc_PMID_31327527  \nAAACCCACAAGCGAAC-1                 0.095204                0.198630  \nAAACCCACAATTTCTC-1                 0.124584                0.366578  \nAAACCCACACCAAATC-1                 0.115914                0.175814  \nAAACCCACACCGAATT-1                 0.196277                0.078090  \nAAACCCATCTTGGATG-1                 0.091992                0.280367  \n...                                     ...                     ...  \nTTTGGTTGTTTGTTCT-1                 0.071534                0.091470  \nTTTGGTTTCCCAGGCA-1                 0.262083               -0.002447  \nTTTGGTTTCGTAGCCG-1                 0.065481                0.154771  \nTTTGTTGTCAACCTCC-1                 0.035515                0.154850  \nTTTGTTGTCCCAAGCG-1                 0.012067                0.012022  \n\n[1432 rows x 8 columns]",
      "text/html": "<div>\n<style scoped>\n    .dataframe tbody tr th:only-of-type {\n        vertical-align: middle;\n    }\n\n    .dataframe tbody tr th {\n        vertical-align: top;\n    }\n\n    .dataframe thead th {\n        text-align: right;\n    }\n</style>\n<table border=\"1\" class=\"dataframe\">\n  <thead>\n    <tr style=\"text-align: right;\">\n      <th></th>\n      <th>suva_ac_PMID_31327527</th>\n      <th>suva_g1s_PMID_31327527</th>\n      <th>suva_g2m_PMID_31327527</th>\n      <th>suva_mes1_PMID_31327527</th>\n      <th>suva_mes2_PMID_31327527</th>\n      <th>suva_npc1_PMID_31327527</th>\n      <th>suva_npc2_PMID_31327527</th>\n      <th>suva_opc_PMID_31327527</th>\n    </tr>\n  </thead>\n  <tbody>\n    <tr>\n      <th>AAACCCACAAGCGAAC-1</th>\n      <td>0.495610</td>\n      <td>0.392755</td>\n      <td>-0.108044</td>\n      <td>0.493775</td>\n      <td>0.299444</td>\n      <td>0.082490</td>\n      <td>0.095204</td>\n      <td>0.198630</td>\n    </tr>\n    <tr>\n      <th>AAACCCACAATTTCTC-1</th>\n      <td>0.450129</td>\n      <td>-0.154239</td>\n      <td>-0.105096</td>\n      <td>0.178716</td>\n      <td>0.057103</td>\n      <td>0.100310</td>\n      <td>0.124584</td>\n      <td>0.366578</td>\n    </tr>\n    <tr>\n      <th>AAACCCACACCAAATC-1</th>\n      <td>0.547855</td>\n      <td>-0.099321</td>\n      <td>-0.154478</td>\n      <td>0.388681</td>\n      <td>0.298187</td>\n      <td>0.157651</td>\n      <td>0.115914</td>\n      <td>0.175814</td>\n    </tr>\n    <tr>\n      <th>AAACCCACACCGAATT-1</th>\n      <td>0.203442</td>\n      <td>0.057941</td>\n      <td>-0.159538</td>\n      <td>0.242374</td>\n      <td>0.193918</td>\n      <td>0.230980</td>\n      <td>0.196277</td>\n      <td>0.078090</td>\n    </tr>\n    <tr>\n      <th>AAACCCATCTTGGATG-1</th>\n      <td>0.678727</td>\n      <td>-0.018926</td>\n      <td>-0.176075</td>\n      <td>0.407065</td>\n      <td>0.201304</td>\n      <td>0.114754</td>\n      <td>0.091992</td>\n      <td>0.280367</td>\n    </tr>\n    <tr>\n      <th>...</th>\n      <td>...</td>\n      <td>...</td>\n      <td>...</td>\n      <td>...</td>\n      <td>...</td>\n      <td>...</td>\n      <td>...</td>\n      <td>...</td>\n    </tr>\n    <tr>\n      <th>TTTGGTTGTTTGTTCT-1</th>\n      <td>0.384686</td>\n      <td>0.305136</td>\n      <td>0.285282</td>\n      <td>0.555193</td>\n      <td>0.224498</td>\n      <td>0.098533</td>\n      <td>0.071534</td>\n      <td>0.091470</td>\n    </tr>\n    <tr>\n      <th>TTTGGTTTCCCAGGCA-1</th>\n      <td>0.168643</td>\n      <td>-0.005736</td>\n      <td>1.205045</td>\n      <td>0.624949</td>\n      <td>0.205460</td>\n      <td>0.195685</td>\n      <td>0.262083</td>\n      <td>-0.002447</td>\n    </tr>\n    <tr>\n      <th>TTTGGTTTCGTAGCCG-1</th>\n      <td>0.608639</td>\n      <td>-0.221996</td>\n      <td>-0.208454</td>\n      <td>0.568790</td>\n      <td>0.192038</td>\n      <td>0.103787</td>\n      <td>0.065481</td>\n      <td>0.154771</td>\n    </tr>\n    <tr>\n      <th>TTTGTTGTCAACCTCC-1</th>\n      <td>0.444351</td>\n      <td>0.704713</td>\n      <td>0.356173</td>\n      <td>0.392078</td>\n      <td>0.245069</td>\n      <td>0.041619</td>\n      <td>0.035515</td>\n      <td>0.154850</td>\n    </tr>\n    <tr>\n      <th>TTTGTTGTCCCAAGCG-1</th>\n      <td>-0.056385</td>\n      <td>0.126085</td>\n      <td>-0.117375</td>\n      <td>-0.096945</td>\n      <td>-0.072994</td>\n      <td>0.205396</td>\n      <td>0.012067</td>\n      <td>0.012022</td>\n    </tr>\n  </tbody>\n</table>\n<p>1432 rows × 8 columns</p>\n</div>"
     },
     "execution_count": 34,
     "metadata": {},
     "output_type": "execute_result"
    }
   ],
   "source": [
    "adata_pre_processed.obs[suva_categories.tolist()]"
   ],
   "metadata": {
    "collapsed": false,
    "ExecuteTime": {
     "end_time": "2023-11-20T12:54:19.816978800Z",
     "start_time": "2023-11-20T12:54:19.741307200Z"
    }
   },
   "id": "82e645776fec2845"
  },
  {
   "cell_type": "code",
   "execution_count": 35,
   "outputs": [
    {
     "name": "stdout",
     "output_type": "stream",
     "text": [
      "AAACCCACAAGCGAAC-1      suva_ac_PMID_31327527\n",
      "AAACCCACAATTTCTC-1      suva_ac_PMID_31327527\n",
      "AAACCCACACCAAATC-1      suva_ac_PMID_31327527\n",
      "AAACCCACACCGAATT-1    suva_mes1_PMID_31327527\n",
      "AAACCCATCTTGGATG-1      suva_ac_PMID_31327527\n",
      "                               ...           \n",
      "TTTGGTTGTTTGTTCT-1    suva_mes1_PMID_31327527\n",
      "TTTGGTTTCCCAGGCA-1     suva_g2m_PMID_31327527\n",
      "TTTGGTTTCGTAGCCG-1      suva_ac_PMID_31327527\n",
      "TTTGTTGTCAACCTCC-1     suva_g1s_PMID_31327527\n",
      "TTTGTTGTCCCAAGCG-1    suva_npc1_PMID_31327527\n",
      "Name: suva_class, Length: 1432, dtype: object\n"
     ]
    }
   ],
   "source": [
    "# Find the column with the maximum value for each row\n",
    "max_class_column = adata_pre_processed.obs[suva_categories.tolist()].idxmax(axis=1)\n",
    "\n",
    "# Annotate the result in a new column 'suva_class'\n",
    "adata_pre_processed.obs['suva_class'] = max_class_column\n",
    "\n",
    "print(adata_pre_processed.obs.suva_class)"
   ],
   "metadata": {
    "collapsed": false,
    "ExecuteTime": {
     "end_time": "2023-11-20T12:54:23.172899500Z",
     "start_time": "2023-11-20T12:54:23.129262800Z"
    }
   },
   "id": "6445e7f4c646c242"
  },
  {
   "cell_type": "markdown",
   "source": [
    "### Lastly save the h5-file"
   ],
   "metadata": {
    "collapsed": false
   },
   "id": "c112961318d0ad44"
  },
  {
   "cell_type": "code",
   "execution_count": 30,
   "outputs": [],
   "source": [
    "# Specify the file path where you want to save the h5 file\n",
    "output_file_path = f'classified_{file_name}'\n",
    "\n",
    "# Save the AnnData object to an h5 file\n",
    "adata_pre_processed.write_h5ad(output_file_path)"
   ],
   "metadata": {
    "collapsed": false,
    "ExecuteTime": {
     "end_time": "2023-11-20T12:18:42.299857Z",
     "start_time": "2023-11-20T12:18:41.767397400Z"
    }
   },
   "id": "439180b88bd54853"
  },
  {
   "cell_type": "markdown",
   "source": [
    "## Test that written function runs"
   ],
   "metadata": {
    "collapsed": false
   },
   "id": "c8d0ac289a059f5c"
  },
  {
   "cell_type": "code",
   "execution_count": 37,
   "outputs": [
    {
     "name": "stdout",
     "output_type": "stream",
     "text": [
      "WARNING: genes are not in var_names and ignored: ['HOPX', 'AQP4', 'ATP1A2', 'AGT', 'PPAP2B']\n",
      "WARNING: genes are not in var_names and ignored: ['HOPX', 'AQP4', 'ATP1A2', 'AGT', 'PPAP2B']\n",
      "WARNING: genes are not in var_names and ignored: ['KIAA0101', 'MLF1IP']\n",
      "WARNING: genes are not in var_names and ignored: ['KIAA0101', 'MLF1IP']\n",
      "WARNING: genes are not in var_names and ignored: ['CHI3L1', 'C1S', 'SERPING1', 'C8ORF4', 'C3', 'SERPINA3', 'NNMT']\n",
      "WARNING: genes are not in var_names and ignored: ['CHI3L1', 'C1S', 'SERPING1', 'C8ORF4', 'C3', 'SERPINA3', 'NNMT']\n",
      "WARNING: genes are not in var_names and ignored: ['ERO1L', 'EPAS1', 'CA9', 'ANGPTL4']\n",
      "WARNING: genes are not in var_names and ignored: ['ERO1L', 'EPAS1', 'CA9', 'ANGPTL4']\n",
      "WARNING: genes are not in var_names and ignored: ['DLL3', 'NEU4', 'NPPA', 'ASCL1', 'NXPH1', 'HN1', 'MYT1', 'GPR56', 'SHD', 'ELAVL4', 'SEZ6L', 'LRRN1']\n",
      "WARNING: genes are not in var_names and ignored: ['DLL3', 'NEU4', 'NPPA', 'ASCL1', 'NXPH1', 'HN1', 'MYT1', 'GPR56', 'SHD', 'ELAVL4', 'SEZ6L', 'LRRN1']\n",
      "WARNING: genes are not in var_names and ignored: ['HMP19', 'ELAVL4', 'STMN4', 'IGFBPL1', 'HN1', 'LOC150568', 'GNG3']\n",
      "WARNING: genes are not in var_names and ignored: ['HMP19', 'ELAVL4', 'STMN4', 'IGFBPL1', 'HN1', 'LOC150568', 'GNG3']\n",
      "WARNING: genes are not in var_names and ignored: ['GPR17', 'SOX2-OT', 'NKAIN4', 'LPPR1', 'CA10', 'CADM2', 'FGF12', 'NEU4', 'HRASLS']\n",
      "WARNING: genes are not in var_names and ignored: ['GPR17', 'SOX2-OT', 'NKAIN4', 'LPPR1', 'CA10', 'CADM2', 'FGF12', 'NEU4', 'HRASLS']\n",
      "AAACCCACAAGCGAAC-1      suva_ac_PMID_31327527\n",
      "AAACCCACAATTTCTC-1      suva_ac_PMID_31327527\n",
      "AAACCCACACCAAATC-1      suva_ac_PMID_31327527\n",
      "AAACCCACACCGAATT-1    suva_mes1_PMID_31327527\n",
      "AAACCCATCTTGGATG-1      suva_ac_PMID_31327527\n",
      "                               ...           \n",
      "TTTGGTTGTTTGTTCT-1    suva_mes1_PMID_31327527\n",
      "TTTGGTTTCCCAGGCA-1     suva_g2m_PMID_31327527\n",
      "TTTGGTTTCGTAGCCG-1      suva_ac_PMID_31327527\n",
      "TTTGTTGTCAACCTCC-1     suva_g1s_PMID_31327527\n",
      "TTTGTTGTCCCAAGCG-1    suva_npc1_PMID_31327527\n",
      "Name: suva_class, Length: 1432, dtype: category\n",
      "Categories (8, object): ['suva_ac_PMID_31327527', 'suva_g1s_PMID_31327527', 'suva_g2m_PMID_31327527', 'suva_mes1_PMID_31327527', 'suva_mes2_PMID_31327527', 'suva_npc1_PMID_31327527', 'suva_npc2_PMID_31327527', 'suva_opc_PMID_31327527']\n",
      "AAACCCACAAGCGAAC-1      suva_ac_PMID_31327527\n",
      "AAACCCACAATTTCTC-1      suva_ac_PMID_31327527\n",
      "AAACCCACACCAAATC-1      suva_ac_PMID_31327527\n",
      "AAACCCACACCGAATT-1    suva_mes1_PMID_31327527\n",
      "AAACCCATCTTGGATG-1      suva_ac_PMID_31327527\n",
      "                               ...           \n",
      "TTTGGTTGTTTGTTCT-1    suva_mes1_PMID_31327527\n",
      "TTTGGTTTCCCAGGCA-1     suva_g2m_PMID_31327527\n",
      "TTTGGTTTCGTAGCCG-1      suva_ac_PMID_31327527\n",
      "TTTGTTGTCAACCTCC-1     suva_g1s_PMID_31327527\n",
      "TTTGTTGTCCCAAGCG-1    suva_npc1_PMID_31327527\n",
      "Name: suva_class, Length: 1432, dtype: object\n"
     ]
    }
   ],
   "source": [
    "from cell_classification import classify_cells\n",
    "\n",
    "temp_adata = classify_cells(pre_processed_adata=adata_for_function,\n",
    "                            class_df=df_suva)\n",
    "print(temp_adata.obs.suva_class)\n",
    "print(adata_pre_processed.obs.suva_class)"
   ],
   "metadata": {
    "collapsed": false,
    "ExecuteTime": {
     "end_time": "2023-11-20T13:02:37.268659Z",
     "start_time": "2023-11-20T13:02:32.347575200Z"
    }
   },
   "id": "9672cf683e8495e4"
  }
 ],
 "metadata": {
  "kernelspec": {
   "display_name": "Python 3",
   "language": "python",
   "name": "python3"
  },
  "language_info": {
   "codemirror_mode": {
    "name": "ipython",
    "version": 2
   },
   "file_extension": ".py",
   "mimetype": "text/x-python",
   "name": "python",
   "nbconvert_exporter": "python",
   "pygments_lexer": "ipython2",
   "version": "2.7.6"
  }
 },
 "nbformat": 4,
 "nbformat_minor": 5
}
